{
 "cells": [
  {
   "cell_type": "markdown",
   "metadata": {},
   "source": [
    "# Data Prep in Spark DataFrames using PySpark"
   ]
  },
  {
   "cell_type": "markdown",
   "metadata": {},
   "source": [
    "## Import necessary packages"
   ]
  },
  {
   "cell_type": "code",
   "execution_count": 1,
   "metadata": {},
   "outputs": [],
   "source": [
    "import pyspark"
   ]
  },
  {
   "cell_type": "markdown",
   "metadata": {},
   "source": [
    "## Start SparkSession"
   ]
  },
  {
   "cell_type": "code",
   "execution_count": 2,
   "metadata": {},
   "outputs": [],
   "source": [
    "spark = pyspark.sql.SparkSession \\\n",
    "    .builder \\\n",
    "    .master('local[*]') \\\n",
    "    .appName(\"Python Spark Consumer Complaints Data Prep Example\") \\\n",
    "    .getOrCreate()"
   ]
  },
  {
   "cell_type": "markdown",
   "metadata": {},
   "source": [
    "## Adjust Spark Settings to Show DataFrames more like Pandas DataFrames"
   ]
  },
  {
   "cell_type": "code",
   "execution_count": 32,
   "metadata": {},
   "outputs": [],
   "source": [
    "spark.conf.set(\"spark.sql.repl.eagerEval.enabled\", True)"
   ]
  },
  {
   "cell_type": "markdown",
   "metadata": {},
   "source": [
    "## Import Data"
   ]
  },
  {
   "cell_type": "code",
   "execution_count": 3,
   "metadata": {},
   "outputs": [],
   "source": [
    "df = spark.read.load('../data/consumer_complaints.parquet',\n",
    "                     inferSchema=\"true\", header=\"true\")"
   ]
  },
  {
   "cell_type": "markdown",
   "metadata": {},
   "source": [
    "## Check out DataFrame"
   ]
  },
  {
   "cell_type": "code",
   "execution_count": 45,
   "metadata": {},
   "outputs": [
    {
     "data": {
      "text/html": [
       "<table border='1'>\n",
       "<tr><th>summary</th><th>date_received</th><th>product</th><th>sub-product</th><th>issue</th><th>sub-issue</th><th>consumer_complaint_narrative</th><th>company_public_response</th><th>company</th><th>state</th><th>zip_code</th><th>tags</th><th>consumer_consent_provided?</th><th>submitted_via</th><th>date_sent_to_company</th><th>company_response_to_consumer</th><th>timely_response?</th><th>consumer_disputed?</th><th>complaint_id</th></tr>\n",
       "<tr><td>count</td><td>1474568</td><td>1474568</td><td>1239403</td><td>1474568</td><td>919291</td><td>482567</td><td>550042</td><td>1474568</td><td>1450021</td><td>1337072</td><td>200924</td><td>865482</td><td>1474568</td><td>1474568</td><td>1474567</td><td>1474568</td><td>768480</td><td>1474568</td></tr>\n",
       "<tr><td>mean</td><td>null</td><td>null</td><td>null</td><td>null</td><td>null</td><td>null</td><td>null</td><td>null</td><td>null</td><td>50860.12706557131</td><td>null</td><td>null</td><td>null</td><td>null</td><td>null</td><td>null</td><td>null</td><td>2115963.600992969</td></tr>\n",
       "<tr><td>stddev</td><td>null</td><td>null</td><td>null</td><td>null</td><td>null</td><td>null</td><td>null</td><td>null</td><td>null</td><td>30898.337000119238</td><td>null</td><td>null</td><td>null</td><td>null</td><td>null</td><td>null</td><td>null</td><td>1020211.408555866</td></tr>\n",
       "<tr><td>min</td><td>01/01/2012</td><td>Bank account or s...</td><td>(CD) Certificate ...</td><td>APR or interest rate</td><td>Account informati...</td><td>! ) forced placed...</td><td>Company believes ...</td><td>(Former)Shapiro, ...</td><td>AA</td><td>(1352</td><td>Older American</td><td>Consent not provided</td><td>Email</td><td>01/01/2013</td><td>Closed</td><td>No</td><td>No</td><td>1</td></tr>\n",
       "<tr><td>max</td><td>12/31/2019</td><td>Virtual currency</td><td>Virtual currency</td><td>Wrong amount char...</td><td>You told them to ...</td><td>•\tSchool Loan ser...</td><td>Company has respo...</td><td> Lippman Recupero...</td><td>WY</td><td>9`325</td><td>Servicemember</td><td>Other</td><td>Web</td><td>12/31/2019</td><td>Untimely response</td><td>Yes</td><td>Yes</td><td>3493133</td></tr>\n",
       "</table>\n"
      ],
      "text/plain": [
       "+-------+-------------+--------------------+--------------------+--------------------+--------------------+----------------------------+-----------------------+--------------------+-------+------------------+--------------+--------------------------+-------------+--------------------+----------------------------+----------------+------------------+-----------------+\n",
       "|summary|date_received|             product|         sub-product|               issue|           sub-issue|consumer_complaint_narrative|company_public_response|             company|  state|          zip_code|          tags|consumer_consent_provided?|submitted_via|date_sent_to_company|company_response_to_consumer|timely_response?|consumer_disputed?|     complaint_id|\n",
       "+-------+-------------+--------------------+--------------------+--------------------+--------------------+----------------------------+-----------------------+--------------------+-------+------------------+--------------+--------------------------+-------------+--------------------+----------------------------+----------------+------------------+-----------------+\n",
       "|  count|      1474568|             1474568|             1239403|             1474568|              919291|                      482567|                 550042|             1474568|1450021|           1337072|        200924|                    865482|      1474568|             1474568|                     1474567|         1474568|            768480|          1474568|\n",
       "|   mean|         null|                null|                null|                null|                null|                        null|                   null|                null|   null| 50860.12706557131|          null|                      null|         null|                null|                        null|            null|              null|2115963.600992969|\n",
       "| stddev|         null|                null|                null|                null|                null|                        null|                   null|                null|   null|30898.337000119238|          null|                      null|         null|                null|                        null|            null|              null|1020211.408555866|\n",
       "|    min|   01/01/2012|Bank account or s...|(CD) Certificate ...|APR or interest rate|Account informati...|        ! ) forced placed...|   Company believes ...|(Former)Shapiro, ...|     AA|             (1352|Older American|      Consent not provided|        Email|          01/01/2013|                      Closed|              No|                No|                1|\n",
       "|    max|   12/31/2019|    Virtual currency|    Virtual currency|Wrong amount char...|You told them to ...|        •\tSchool Loan ser...|   Company has respo...| Lippman Recupero...|     WY|             9`325| Servicemember|                     Other|          Web|          12/31/2019|           Untimely response|             Yes|               Yes|          3493133|\n",
       "+-------+-------------+--------------------+--------------------+--------------------+--------------------+----------------------------+-----------------------+--------------------+-------+------------------+--------------+--------------------------+-------------+--------------------+----------------------------+----------------+------------------+-----------------+"
      ]
     },
     "execution_count": 45,
     "metadata": {},
     "output_type": "execute_result"
    }
   ],
   "source": [
    "df.describe()"
   ]
  },
  {
   "cell_type": "code",
   "execution_count": 44,
   "metadata": {},
   "outputs": [
    {
     "data": {
      "text/html": [
       "<table border='1'>\n",
       "<tr><th>date_received</th><th>product</th><th>sub-product</th><th>issue</th><th>sub-issue</th><th>consumer_complaint_narrative</th><th>company_public_response</th><th>company</th><th>state</th><th>zip_code</th><th>tags</th><th>consumer_consent_provided?</th><th>submitted_via</th><th>date_sent_to_company</th><th>company_response_to_consumer</th><th>timely_response?</th><th>consumer_disputed?</th><th>complaint_id</th></tr>\n",
       "<tr><td>0</td><td>0</td><td>0</td><td>0</td><td>0</td><td>0</td><td>0</td><td>0</td><td>0</td><td>0</td><td>0</td><td>0</td><td>0</td><td>0</td><td>0</td><td>0</td><td>0</td><td>0</td></tr>\n",
       "</table>\n"
      ],
      "text/plain": [
       "+-------------+-------+-----------+-----+---------+----------------------------+-----------------------+-------+-----+--------+----+--------------------------+-------------+--------------------+----------------------------+----------------+------------------+------------+\n",
       "|date_received|product|sub-product|issue|sub-issue|consumer_complaint_narrative|company_public_response|company|state|zip_code|tags|consumer_consent_provided?|submitted_via|date_sent_to_company|company_response_to_consumer|timely_response?|consumer_disputed?|complaint_id|\n",
       "+-------------+-------+-----------+-----+---------+----------------------------+-----------------------+-------+-----+--------+----+--------------------------+-------------+--------------------+----------------------------+----------------+------------------+------------+\n",
       "|            0|      0|          0|    0|        0|                           0|                      0|      0|    0|       0|   0|                         0|            0|                   0|                           0|               0|                 0|           0|\n",
       "+-------------+-------+-----------+-----+---------+----------------------------+-----------------------+-------+-----+--------+----+--------------------------+-------------+--------------------+----------------------------+----------------+------------------+------------+"
      ]
     },
     "execution_count": 44,
     "metadata": {},
     "output_type": "execute_result"
    }
   ],
   "source": [
    "from pyspark.sql.functions import isnan, when, count, col\n",
    "\n",
    "df.select([count(when(isnan(c), c)).alias(c) for c in df.columns])"
   ]
  },
  {
   "cell_type": "code",
   "execution_count": 105,
   "metadata": {},
   "outputs": [
    {
     "data": {
      "text/html": [
       "<div>\n",
       "<style scoped>\n",
       "    .dataframe tbody tr th:only-of-type {\n",
       "        vertical-align: middle;\n",
       "    }\n",
       "\n",
       "    .dataframe tbody tr th {\n",
       "        vertical-align: top;\n",
       "    }\n",
       "\n",
       "    .dataframe thead th {\n",
       "        text-align: right;\n",
       "    }\n",
       "</style>\n",
       "<table border=\"1\" class=\"dataframe\">\n",
       "  <thead>\n",
       "    <tr style=\"text-align: right;\">\n",
       "      <th></th>\n",
       "      <th>0</th>\n",
       "    </tr>\n",
       "  </thead>\n",
       "  <tbody>\n",
       "    <tr>\n",
       "      <td>date_received</td>\n",
       "      <td>0</td>\n",
       "    </tr>\n",
       "    <tr>\n",
       "      <td>product</td>\n",
       "      <td>0</td>\n",
       "    </tr>\n",
       "    <tr>\n",
       "      <td>sub-product</td>\n",
       "      <td>235165</td>\n",
       "    </tr>\n",
       "    <tr>\n",
       "      <td>issue</td>\n",
       "      <td>0</td>\n",
       "    </tr>\n",
       "    <tr>\n",
       "      <td>sub-issue</td>\n",
       "      <td>555277</td>\n",
       "    </tr>\n",
       "    <tr>\n",
       "      <td>consumer_complaint_narrative</td>\n",
       "      <td>992001</td>\n",
       "    </tr>\n",
       "    <tr>\n",
       "      <td>company_public_response</td>\n",
       "      <td>924526</td>\n",
       "    </tr>\n",
       "    <tr>\n",
       "      <td>company</td>\n",
       "      <td>0</td>\n",
       "    </tr>\n",
       "    <tr>\n",
       "      <td>state</td>\n",
       "      <td>24547</td>\n",
       "    </tr>\n",
       "    <tr>\n",
       "      <td>zip_code</td>\n",
       "      <td>137496</td>\n",
       "    </tr>\n",
       "    <tr>\n",
       "      <td>tags</td>\n",
       "      <td>1273644</td>\n",
       "    </tr>\n",
       "    <tr>\n",
       "      <td>consumer_consent_provided?</td>\n",
       "      <td>609086</td>\n",
       "    </tr>\n",
       "    <tr>\n",
       "      <td>submitted_via</td>\n",
       "      <td>0</td>\n",
       "    </tr>\n",
       "    <tr>\n",
       "      <td>date_sent_to_company</td>\n",
       "      <td>0</td>\n",
       "    </tr>\n",
       "    <tr>\n",
       "      <td>company_response_to_consumer</td>\n",
       "      <td>1</td>\n",
       "    </tr>\n",
       "    <tr>\n",
       "      <td>timely_response?</td>\n",
       "      <td>0</td>\n",
       "    </tr>\n",
       "    <tr>\n",
       "      <td>consumer_disputed?</td>\n",
       "      <td>706088</td>\n",
       "    </tr>\n",
       "    <tr>\n",
       "      <td>complaint_id</td>\n",
       "      <td>0</td>\n",
       "    </tr>\n",
       "  </tbody>\n",
       "</table>\n",
       "</div>"
      ],
      "text/plain": [
       "                                    0\n",
       "date_received                       0\n",
       "product                             0\n",
       "sub-product                    235165\n",
       "issue                               0\n",
       "sub-issue                      555277\n",
       "consumer_complaint_narrative   992001\n",
       "company_public_response        924526\n",
       "company                             0\n",
       "state                           24547\n",
       "zip_code                       137496\n",
       "tags                          1273644\n",
       "consumer_consent_provided?     609086\n",
       "submitted_via                       0\n",
       "date_sent_to_company                0\n",
       "company_response_to_consumer        1\n",
       "timely_response?                    0\n",
       "consumer_disputed?             706088\n",
       "complaint_id                        0"
      ]
     },
     "execution_count": 105,
     "metadata": {},
     "output_type": "execute_result"
    }
   ],
   "source": [
    "from pyspark.sql.functions import when, count, col\n",
    "\n",
    "df.select([count(when(col(c).isNull(), c)).alias(c) for c in df.columns]).toPandas().T"
   ]
  },
  {
   "cell_type": "markdown",
   "metadata": {},
   "source": [
    "### Are there duplicates? No"
   ]
  },
  {
   "cell_type": "code",
   "execution_count": 5,
   "metadata": {},
   "outputs": [
    {
     "data": {
      "text/plain": [
       "1474568"
      ]
     },
     "execution_count": 5,
     "metadata": {},
     "output_type": "execute_result"
    }
   ],
   "source": [
    "df.count()"
   ]
  },
  {
   "cell_type": "code",
   "execution_count": 6,
   "metadata": {},
   "outputs": [
    {
     "data": {
      "text/plain": [
       "1474568"
      ]
     },
     "execution_count": 6,
     "metadata": {},
     "output_type": "execute_result"
    }
   ],
   "source": [
    "df.distinct().count()"
   ]
  },
  {
   "cell_type": "markdown",
   "metadata": {},
   "source": [
    "### Drop row with Null in \"Company Response to Consumer\""
   ]
  },
  {
   "cell_type": "code",
   "execution_count": 63,
   "metadata": {},
   "outputs": [],
   "source": [
    "df_clean = df.dropna(subset='company_response_to_consumer')"
   ]
  },
  {
   "cell_type": "markdown",
   "metadata": {},
   "source": [
    "### Replace Null \"Consumer Disputed?\" With \"No\" and add a column to flag this change."
   ]
  },
  {
   "cell_type": "code",
   "execution_count": 47,
   "metadata": {},
   "outputs": [
    {
     "data": {
      "text/html": [
       "<table border='1'>\n",
       "<tr><th>consumer_disputed?</th></tr>\n",
       "<tr><td>No</td></tr>\n",
       "<tr><td>No</td></tr>\n",
       "<tr><td>null</td></tr>\n",
       "<tr><td>null</td></tr>\n",
       "<tr><td>No</td></tr>\n",
       "<tr><td>Yes</td></tr>\n",
       "<tr><td>No</td></tr>\n",
       "<tr><td>No</td></tr>\n",
       "<tr><td>null</td></tr>\n",
       "<tr><td>null</td></tr>\n",
       "<tr><td>null</td></tr>\n",
       "<tr><td>null</td></tr>\n",
       "<tr><td>No</td></tr>\n",
       "<tr><td>null</td></tr>\n",
       "<tr><td>No</td></tr>\n",
       "<tr><td>No</td></tr>\n",
       "<tr><td>Yes</td></tr>\n",
       "<tr><td>Yes</td></tr>\n",
       "<tr><td>null</td></tr>\n",
       "<tr><td>null</td></tr>\n",
       "</table>\n",
       "only showing top 20 rows\n"
      ],
      "text/plain": [
       "+------------------+\n",
       "|consumer_disputed?|\n",
       "+------------------+\n",
       "|                No|\n",
       "|                No|\n",
       "|              null|\n",
       "|              null|\n",
       "|                No|\n",
       "|               Yes|\n",
       "|                No|\n",
       "|                No|\n",
       "|              null|\n",
       "|              null|\n",
       "|              null|\n",
       "|              null|\n",
       "|                No|\n",
       "|              null|\n",
       "|                No|\n",
       "|                No|\n",
       "|               Yes|\n",
       "|               Yes|\n",
       "|              null|\n",
       "|              null|\n",
       "+------------------+\n",
       "only showing top 20 rows"
      ]
     },
     "execution_count": 47,
     "metadata": {},
     "output_type": "execute_result"
    }
   ],
   "source": [
    "# check to see if desired value is 'No' or 'no'\n",
    "df.select('consumer_disputed?')"
   ]
  },
  {
   "cell_type": "code",
   "execution_count": 64,
   "metadata": {},
   "outputs": [],
   "source": [
    "# add flag column\n",
    "df_clean = df_clean.withColumn('null_c_disputed', df_clean['consumer_disputed?'].isNull())"
   ]
  },
  {
   "cell_type": "code",
   "execution_count": 65,
   "metadata": {},
   "outputs": [],
   "source": [
    "# fill na in consumer_disputed? with 'No'\n",
    "df_clean = df_clean.fillna('No', subset='consumer_disputed?')"
   ]
  },
  {
   "cell_type": "code",
   "execution_count": 58,
   "metadata": {},
   "outputs": [
    {
     "data": {
      "text/html": [
       "<table border='1'>\n",
       "<tr><th>date_received</th><th>product</th><th>sub-product</th><th>issue</th><th>sub-issue</th><th>consumer_complaint_narrative</th><th>company_public_response</th><th>company</th><th>state</th><th>zip_code</th><th>tags</th><th>consumer_consent_provided?</th><th>submitted_via</th><th>date_sent_to_company</th><th>company_response_to_consumer</th><th>timely_response?</th><th>consumer_disputed?</th><th>complaint_id</th><th>null_c_disputed</th></tr>\n",
       "<tr><td>08/09/2015</td><td>Credit reporting</td><td>null</td><td>Incorrect informa...</td><td>Information is no...</td><td>null</td><td>Company chooses n...</td><td>Experian Informat...</td><td>NJ</td><td>08872</td><td>null</td><td>Consent not provided</td><td>Web</td><td>08/09/2015</td><td>Closed with non-m...</td><td>Yes</td><td>No</td><td>1509954</td><td>false</td></tr>\n",
       "<tr><td>02/06/2014</td><td>Mortgage</td><td>Other mortgage</td><td>Loan modification...</td><td>null</td><td>null</td><td>null</td><td>Ocwen Financial C...</td><td>CA</td><td>939XX</td><td>null</td><td>null</td><td>Referral</td><td>02/10/2014</td><td>Closed with expla...</td><td>Yes</td><td>No</td><td>700599</td><td>false</td></tr>\n",
       "<tr><td>01/29/2019</td><td>Credit reporting,...</td><td>Credit reporting</td><td>Problem with a cr...</td><td>Was not notified ...</td><td>null</td><td>null</td><td>EQUIFAX, INC.</td><td>NY</td><td>10801</td><td>null</td><td>Consent not provided</td><td>Web</td><td>01/30/2019</td><td>Closed with non-m...</td><td>Yes</td><td>No</td><td>3136759</td><td>true</td></tr>\n",
       "<tr><td>11/03/2019</td><td>Credit reporting,...</td><td>Credit reporting</td><td>Problem with a cr...</td><td>Their investigati...</td><td>null</td><td>null</td><td>EQUIFAX, INC.</td><td>SC</td><td>290XX</td><td>null</td><td>Consent not provided</td><td>Web</td><td>11/03/2019</td><td>Closed with expla...</td><td>Yes</td><td>No</td><td>3426837</td><td>true</td></tr>\n",
       "<tr><td>08/19/2015</td><td>Mortgage</td><td>Conventional adju...</td><td>Loan servicing, p...</td><td>null</td><td>null</td><td>Company chooses n...</td><td>WELLS FARGO &amp; COM...</td><td>CA</td><td>94526</td><td>null</td><td>Consent not provided</td><td>Web</td><td>08/19/2015</td><td>Closed with expla...</td><td>Yes</td><td>No</td><td>1527601</td><td>false</td></tr>\n",
       "<tr><td>03/04/2016</td><td>Credit card</td><td>null</td><td>Billing disputes</td><td>null</td><td>I am dissatisfied...</td><td>null</td><td>DISCOVER BANK</td><td>NV</td><td>891XX</td><td>null</td><td>Consent provided</td><td>Web</td><td>03/04/2016</td><td>Closed with expla...</td><td>Yes</td><td>Yes</td><td>1816726</td><td>false</td></tr>\n",
       "<tr><td>03/18/2013</td><td>Mortgage</td><td>Other mortgage</td><td>Loan modification...</td><td>null</td><td>null</td><td>null</td><td>BANK OF AMERICA, ...</td><td>PA</td><td>175XX</td><td>null</td><td>null</td><td>Referral</td><td>03/19/2013</td><td>Closed with expla...</td><td>Yes</td><td>No</td><td>358304</td><td>false</td></tr>\n",
       "<tr><td>12/21/2011</td><td>Mortgage</td><td>Conventional fixe...</td><td>Loan modification...</td><td>null</td><td>null</td><td>null</td><td>BANK OF AMERICA, ...</td><td>MD</td><td>210XX</td><td>null</td><td>null</td><td>Web</td><td>12/22/2011</td><td>Closed without re...</td><td>Yes</td><td>No</td><td>7362</td><td>false</td></tr>\n",
       "<tr><td>10/24/2018</td><td>Credit reporting,...</td><td>Credit reporting</td><td>Incorrect informa...</td><td>Account status in...</td><td>null</td><td>Company has respo...</td><td>SYNCHRONY FINANCIAL</td><td>CA</td><td>92595</td><td>Servicemember</td><td>Consent not provided</td><td>Web</td><td>10/24/2018</td><td>Closed with expla...</td><td>Yes</td><td>No</td><td>3054861</td><td>true</td></tr>\n",
       "<tr><td>03/03/2018</td><td>Credit reporting,...</td><td>Credit reporting</td><td>Incorrect informa...</td><td>Information belon...</td><td>On XX/XX/18 an it...</td><td>Company has respo...</td><td>TRANSUNION INTERM...</td><td>VA</td><td>245XX</td><td>null</td><td>Consent provided</td><td>Web</td><td>03/03/2018</td><td>Closed with expla...</td><td>Yes</td><td>No</td><td>2831821</td><td>true</td></tr>\n",
       "</table>\n"
      ],
      "text/plain": [
       "+-------------+--------------------+--------------------+--------------------+--------------------+----------------------------+-----------------------+--------------------+-----+--------+-------------+--------------------------+-------------+--------------------+----------------------------+----------------+------------------+------------+---------------+\n",
       "|date_received|             product|         sub-product|               issue|           sub-issue|consumer_complaint_narrative|company_public_response|             company|state|zip_code|         tags|consumer_consent_provided?|submitted_via|date_sent_to_company|company_response_to_consumer|timely_response?|consumer_disputed?|complaint_id|null_c_disputed|\n",
       "+-------------+--------------------+--------------------+--------------------+--------------------+----------------------------+-----------------------+--------------------+-----+--------+-------------+--------------------------+-------------+--------------------+----------------------------+----------------+------------------+------------+---------------+\n",
       "|   08/09/2015|    Credit reporting|                null|Incorrect informa...|Information is no...|                        null|   Company chooses n...|Experian Informat...|   NJ|   08872|         null|      Consent not provided|          Web|          08/09/2015|        Closed with non-m...|             Yes|                No|     1509954|          false|\n",
       "|   02/06/2014|            Mortgage|      Other mortgage|Loan modification...|                null|                        null|                   null|Ocwen Financial C...|   CA|   939XX|         null|                      null|     Referral|          02/10/2014|        Closed with expla...|             Yes|                No|      700599|          false|\n",
       "|   01/29/2019|Credit reporting,...|    Credit reporting|Problem with a cr...|Was not notified ...|                        null|                   null|       EQUIFAX, INC.|   NY|   10801|         null|      Consent not provided|          Web|          01/30/2019|        Closed with non-m...|             Yes|                No|     3136759|           true|\n",
       "|   11/03/2019|Credit reporting,...|    Credit reporting|Problem with a cr...|Their investigati...|                        null|                   null|       EQUIFAX, INC.|   SC|   290XX|         null|      Consent not provided|          Web|          11/03/2019|        Closed with expla...|             Yes|                No|     3426837|           true|\n",
       "|   08/19/2015|            Mortgage|Conventional adju...|Loan servicing, p...|                null|                        null|   Company chooses n...|WELLS FARGO & COM...|   CA|   94526|         null|      Consent not provided|          Web|          08/19/2015|        Closed with expla...|             Yes|                No|     1527601|          false|\n",
       "|   03/04/2016|         Credit card|                null|    Billing disputes|                null|        I am dissatisfied...|                   null|       DISCOVER BANK|   NV|   891XX|         null|          Consent provided|          Web|          03/04/2016|        Closed with expla...|             Yes|               Yes|     1816726|          false|\n",
       "|   03/18/2013|            Mortgage|      Other mortgage|Loan modification...|                null|                        null|                   null|BANK OF AMERICA, ...|   PA|   175XX|         null|                      null|     Referral|          03/19/2013|        Closed with expla...|             Yes|                No|      358304|          false|\n",
       "|   12/21/2011|            Mortgage|Conventional fixe...|Loan modification...|                null|                        null|                   null|BANK OF AMERICA, ...|   MD|   210XX|         null|                      null|          Web|          12/22/2011|        Closed without re...|             Yes|                No|        7362|          false|\n",
       "|   10/24/2018|Credit reporting,...|    Credit reporting|Incorrect informa...|Account status in...|                        null|   Company has respo...| SYNCHRONY FINANCIAL|   CA|   92595|Servicemember|      Consent not provided|          Web|          10/24/2018|        Closed with expla...|             Yes|                No|     3054861|           true|\n",
       "|   03/03/2018|Credit reporting,...|    Credit reporting|Incorrect informa...|Information belon...|        On XX/XX/18 an it...|   Company has respo...|TRANSUNION INTERM...|   VA|   245XX|         null|          Consent provided|          Web|          03/03/2018|        Closed with expla...|             Yes|                No|     2831821|           true|\n",
       "+-------------+--------------------+--------------------+--------------------+--------------------+----------------------------+-----------------------+--------------------+-----+--------+-------------+--------------------------+-------------+--------------------+----------------------------+----------------+------------------+------------+---------------+"
      ]
     },
     "execution_count": 58,
     "metadata": {},
     "output_type": "execute_result"
    }
   ],
   "source": [
    "# check results with the first 10 rows\n",
    "df_clean.limit(10)"
   ]
  },
  {
   "cell_type": "markdown",
   "metadata": {},
   "source": [
    "### Add date-based columns: transit time (days between receipt and reporting to company), day of week"
   ]
  },
  {
   "cell_type": "code",
   "execution_count": 97,
   "metadata": {},
   "outputs": [],
   "source": [
    "from pyspark.sql.functions import to_date, datediff, date_format, month"
   ]
  },
  {
   "cell_type": "code",
   "execution_count": 66,
   "metadata": {},
   "outputs": [
    {
     "data": {
      "text/plain": [
       "[('date_received', 'string'),\n",
       " ('product', 'string'),\n",
       " ('sub-product', 'string'),\n",
       " ('issue', 'string'),\n",
       " ('sub-issue', 'string'),\n",
       " ('consumer_complaint_narrative', 'string'),\n",
       " ('company_public_response', 'string'),\n",
       " ('company', 'string'),\n",
       " ('state', 'string'),\n",
       " ('zip_code', 'string'),\n",
       " ('tags', 'string'),\n",
       " ('consumer_consent_provided?', 'string'),\n",
       " ('submitted_via', 'string'),\n",
       " ('date_sent_to_company', 'string'),\n",
       " ('company_response_to_consumer', 'string'),\n",
       " ('timely_response?', 'string'),\n",
       " ('consumer_disputed?', 'string'),\n",
       " ('complaint_id', 'bigint'),\n",
       " ('null_c_disputed', 'boolean'),\n",
       " ('date_received_dt', 'date'),\n",
       " ('date_sent_to_company_dt', 'date')]"
      ]
     },
     "execution_count": 66,
     "metadata": {},
     "output_type": "execute_result"
    }
   ],
   "source": [
    "# add datetime columns\n",
    "df_clean = df_clean.select('*', to_date(df_clean['date_received'], 'MM/dd/yyyy').alias('date_received_dt'))\n",
    "df_clean = df_clean.select('*', to_date(df_clean['date_sent_to_company'], 'MM/dd/yyyy').alias('date_sent_to_company_dt'))\n",
    "\n",
    "df_clean.dtypes"
   ]
  },
  {
   "cell_type": "code",
   "execution_count": 67,
   "metadata": {},
   "outputs": [
    {
     "data": {
      "text/plain": [
       "[('product', 'string'),\n",
       " ('sub-product', 'string'),\n",
       " ('issue', 'string'),\n",
       " ('sub-issue', 'string'),\n",
       " ('consumer_complaint_narrative', 'string'),\n",
       " ('company_public_response', 'string'),\n",
       " ('company', 'string'),\n",
       " ('state', 'string'),\n",
       " ('zip_code', 'string'),\n",
       " ('tags', 'string'),\n",
       " ('consumer_consent_provided?', 'string'),\n",
       " ('submitted_via', 'string'),\n",
       " ('company_response_to_consumer', 'string'),\n",
       " ('timely_response?', 'string'),\n",
       " ('consumer_disputed?', 'string'),\n",
       " ('complaint_id', 'bigint'),\n",
       " ('null_c_disputed', 'boolean'),\n",
       " ('date_received_dt', 'date'),\n",
       " ('date_sent_to_company_dt', 'date')]"
      ]
     },
     "execution_count": 67,
     "metadata": {},
     "output_type": "execute_result"
    }
   ],
   "source": [
    "# drop string date columns\n",
    "df_clean = df_clean.drop('date_received').drop('date_sent_to_company')\n",
    "\n",
    "df_clean.dtypes"
   ]
  },
  {
   "cell_type": "code",
   "execution_count": 74,
   "metadata": {},
   "outputs": [],
   "source": [
    "# add time difference between receipt and sent to company\n",
    "df_clean = df_clean.withColumn('transit_time', \n",
    "                    datediff(df_clean['date_sent_to_company_dt'], \n",
    "                             df_clean['date_received_dt']))"
   ]
  },
  {
   "cell_type": "code",
   "execution_count": 76,
   "metadata": {},
   "outputs": [],
   "source": [
    "# add submitted day of week (1=Monday, 7=Sunday)\n",
    "df_clean = df_clean.withColumn('dow_submitted', date_format('date_received_dt', 'u').alias('dow_submitted'))"
   ]
  },
  {
   "cell_type": "code",
   "execution_count": 98,
   "metadata": {},
   "outputs": [],
   "source": [
    "# add submitted month, year\n",
    "\n",
    "df_clean = df_clean.withColumn('y_submitted', date_format('date_received_dt', 'y').alias('y_submitted')) \\\n",
    "                    .withColumn('m_submitted', month('date_received_dt').alias('m_submitted'))"
   ]
  },
  {
   "cell_type": "code",
   "execution_count": 99,
   "metadata": {},
   "outputs": [
    {
     "data": {
      "text/plain": [
       "[Row(product='Credit reporting', sub-product=None, issue='Incorrect information on credit report', sub-issue='Information is not mine', consumer_complaint_narrative=None, company_public_response='Company chooses not to provide a public response', company='Experian Information Solutions Inc.', state='NJ', zip_code='08872', tags=None, consumer_consent_provided?='Consent not provided', submitted_via='Web', company_response_to_consumer='Closed with non-monetary relief', timely_response?='Yes', consumer_disputed?='No', complaint_id=1509954, null_c_disputed=False, date_received_dt=datetime.date(2015, 8, 9), date_sent_to_company_dt=datetime.date(2015, 8, 9), transit_time=0, dow_submitted='7', y_submitted='2015', m_submitted=8),\n",
       " Row(product='Mortgage', sub-product='Other mortgage', issue='Loan modification,collection,foreclosure', sub-issue=None, consumer_complaint_narrative=None, company_public_response=None, company='Ocwen Financial Corporation', state='CA', zip_code='939XX', tags=None, consumer_consent_provided?=None, submitted_via='Referral', company_response_to_consumer='Closed with explanation', timely_response?='Yes', consumer_disputed?='No', complaint_id=700599, null_c_disputed=False, date_received_dt=datetime.date(2014, 2, 6), date_sent_to_company_dt=datetime.date(2014, 2, 10), transit_time=4, dow_submitted='4', y_submitted='2014', m_submitted=2),\n",
       " Row(product='Credit reporting, credit repair services, or other personal consumer reports', sub-product='Credit reporting', issue=\"Problem with a credit reporting company's investigation into an existing problem\", sub-issue='Was not notified of investigation status or results', consumer_complaint_narrative=None, company_public_response=None, company='EQUIFAX, INC.', state='NY', zip_code='10801', tags=None, consumer_consent_provided?='Consent not provided', submitted_via='Web', company_response_to_consumer='Closed with non-monetary relief', timely_response?='Yes', consumer_disputed?='No', complaint_id=3136759, null_c_disputed=True, date_received_dt=datetime.date(2019, 1, 29), date_sent_to_company_dt=datetime.date(2019, 1, 30), transit_time=1, dow_submitted='2', y_submitted='2019', m_submitted=1),\n",
       " Row(product='Credit reporting, credit repair services, or other personal consumer reports', sub-product='Credit reporting', issue=\"Problem with a credit reporting company's investigation into an existing problem\", sub-issue='Their investigation did not fix an error on your report', consumer_complaint_narrative=None, company_public_response=None, company='EQUIFAX, INC.', state='SC', zip_code='290XX', tags=None, consumer_consent_provided?='Consent not provided', submitted_via='Web', company_response_to_consumer='Closed with explanation', timely_response?='Yes', consumer_disputed?='No', complaint_id=3426837, null_c_disputed=True, date_received_dt=datetime.date(2019, 11, 3), date_sent_to_company_dt=datetime.date(2019, 11, 3), transit_time=0, dow_submitted='7', y_submitted='2019', m_submitted=11),\n",
       " Row(product='Mortgage', sub-product='Conventional adjustable mortgage (ARM)', issue='Loan servicing, payments, escrow account', sub-issue=None, consumer_complaint_narrative=None, company_public_response='Company chooses not to provide a public response', company='WELLS FARGO & COMPANY', state='CA', zip_code='94526', tags=None, consumer_consent_provided?='Consent not provided', submitted_via='Web', company_response_to_consumer='Closed with explanation', timely_response?='Yes', consumer_disputed?='No', complaint_id=1527601, null_c_disputed=False, date_received_dt=datetime.date(2015, 8, 19), date_sent_to_company_dt=datetime.date(2015, 8, 19), transit_time=0, dow_submitted='3', y_submitted='2015', m_submitted=8)]"
      ]
     },
     "execution_count": 99,
     "metadata": {},
     "output_type": "execute_result"
    }
   ],
   "source": [
    "df_clean.take(5)"
   ]
  },
  {
   "cell_type": "code",
   "execution_count": 100,
   "metadata": {
    "scrolled": false
   },
   "outputs": [
    {
     "data": {
      "text/html": [
       "<table border='1'>\n",
       "<tr><th>product</th><th>sub-product</th><th>issue</th><th>sub-issue</th><th>consumer_complaint_narrative</th><th>company_public_response</th><th>company</th><th>state</th><th>zip_code</th><th>tags</th><th>consumer_consent_provided?</th><th>submitted_via</th><th>company_response_to_consumer</th><th>timely_response?</th><th>consumer_disputed?</th><th>complaint_id</th><th>null_c_disputed</th><th>date_received_dt</th><th>date_sent_to_company_dt</th><th>transit_time</th><th>dow_submitted</th><th>y_submitted</th><th>m_submitted</th></tr>\n",
       "<tr><td>Credit reporting</td><td>null</td><td>Incorrect informa...</td><td>Information is no...</td><td>null</td><td>Company chooses n...</td><td>Experian Informat...</td><td>NJ</td><td>08872</td><td>null</td><td>Consent not provided</td><td>Web</td><td>Closed with non-m...</td><td>Yes</td><td>No</td><td>1509954</td><td>false</td><td>2015-08-09</td><td>2015-08-09</td><td>0</td><td>7</td><td>2015</td><td>8</td></tr>\n",
       "<tr><td>Mortgage</td><td>Other mortgage</td><td>Loan modification...</td><td>null</td><td>null</td><td>null</td><td>Ocwen Financial C...</td><td>CA</td><td>939XX</td><td>null</td><td>null</td><td>Referral</td><td>Closed with expla...</td><td>Yes</td><td>No</td><td>700599</td><td>false</td><td>2014-02-06</td><td>2014-02-10</td><td>4</td><td>4</td><td>2014</td><td>2</td></tr>\n",
       "<tr><td>Credit reporting,...</td><td>Credit reporting</td><td>Problem with a cr...</td><td>Was not notified ...</td><td>null</td><td>null</td><td>EQUIFAX, INC.</td><td>NY</td><td>10801</td><td>null</td><td>Consent not provided</td><td>Web</td><td>Closed with non-m...</td><td>Yes</td><td>No</td><td>3136759</td><td>true</td><td>2019-01-29</td><td>2019-01-30</td><td>1</td><td>2</td><td>2019</td><td>1</td></tr>\n",
       "<tr><td>Credit reporting,...</td><td>Credit reporting</td><td>Problem with a cr...</td><td>Their investigati...</td><td>null</td><td>null</td><td>EQUIFAX, INC.</td><td>SC</td><td>290XX</td><td>null</td><td>Consent not provided</td><td>Web</td><td>Closed with expla...</td><td>Yes</td><td>No</td><td>3426837</td><td>true</td><td>2019-11-03</td><td>2019-11-03</td><td>0</td><td>7</td><td>2019</td><td>11</td></tr>\n",
       "<tr><td>Mortgage</td><td>Conventional adju...</td><td>Loan servicing, p...</td><td>null</td><td>null</td><td>Company chooses n...</td><td>WELLS FARGO &amp; COM...</td><td>CA</td><td>94526</td><td>null</td><td>Consent not provided</td><td>Web</td><td>Closed with expla...</td><td>Yes</td><td>No</td><td>1527601</td><td>false</td><td>2015-08-19</td><td>2015-08-19</td><td>0</td><td>3</td><td>2015</td><td>8</td></tr>\n",
       "</table>\n"
      ],
      "text/plain": [
       "+--------------------+--------------------+--------------------+--------------------+----------------------------+-----------------------+--------------------+-----+--------+----+--------------------------+-------------+----------------------------+----------------+------------------+------------+---------------+----------------+-----------------------+------------+-------------+-----------+-----------+\n",
       "|             product|         sub-product|               issue|           sub-issue|consumer_complaint_narrative|company_public_response|             company|state|zip_code|tags|consumer_consent_provided?|submitted_via|company_response_to_consumer|timely_response?|consumer_disputed?|complaint_id|null_c_disputed|date_received_dt|date_sent_to_company_dt|transit_time|dow_submitted|y_submitted|m_submitted|\n",
       "+--------------------+--------------------+--------------------+--------------------+----------------------------+-----------------------+--------------------+-----+--------+----+--------------------------+-------------+----------------------------+----------------+------------------+------------+---------------+----------------+-----------------------+------------+-------------+-----------+-----------+\n",
       "|    Credit reporting|                null|Incorrect informa...|Information is no...|                        null|   Company chooses n...|Experian Informat...|   NJ|   08872|null|      Consent not provided|          Web|        Closed with non-m...|             Yes|                No|     1509954|          false|      2015-08-09|             2015-08-09|           0|            7|       2015|          8|\n",
       "|            Mortgage|      Other mortgage|Loan modification...|                null|                        null|                   null|Ocwen Financial C...|   CA|   939XX|null|                      null|     Referral|        Closed with expla...|             Yes|                No|      700599|          false|      2014-02-06|             2014-02-10|           4|            4|       2014|          2|\n",
       "|Credit reporting,...|    Credit reporting|Problem with a cr...|Was not notified ...|                        null|                   null|       EQUIFAX, INC.|   NY|   10801|null|      Consent not provided|          Web|        Closed with non-m...|             Yes|                No|     3136759|           true|      2019-01-29|             2019-01-30|           1|            2|       2019|          1|\n",
       "|Credit reporting,...|    Credit reporting|Problem with a cr...|Their investigati...|                        null|                   null|       EQUIFAX, INC.|   SC|   290XX|null|      Consent not provided|          Web|        Closed with expla...|             Yes|                No|     3426837|           true|      2019-11-03|             2019-11-03|           0|            7|       2019|         11|\n",
       "|            Mortgage|Conventional adju...|Loan servicing, p...|                null|                        null|   Company chooses n...|WELLS FARGO & COM...|   CA|   94526|null|      Consent not provided|          Web|        Closed with expla...|             Yes|                No|     1527601|          false|      2015-08-19|             2015-08-19|           0|            3|       2015|          8|\n",
       "+--------------------+--------------------+--------------------+--------------------+----------------------------+-----------------------+--------------------+-----+--------+----+--------------------------+-------------+----------------------------+----------------+------------------+------------+---------------+----------------+-----------------------+------------+-------------+-----------+-----------+"
      ]
     },
     "execution_count": 100,
     "metadata": {},
     "output_type": "execute_result"
    }
   ],
   "source": [
    "df_clean.limit(5)\n",
    "\n",
    "# note: here it seems like limit takes longer (maybe processing the whole table?) than take,\n",
    "# but the output is not cute."
   ]
  },
  {
   "cell_type": "markdown",
   "metadata": {},
   "source": [
    "### Check Zip Codes and States\n",
    "\n",
    "Data courtesy of [SimpleMaps](https://simplemaps.com/data/us-zips) CC4.0"
   ]
  },
  {
   "cell_type": "code",
   "execution_count": 104,
   "metadata": {},
   "outputs": [
    {
     "data": {
      "text/html": [
       "<div>\n",
       "<style scoped>\n",
       "    .dataframe tbody tr th:only-of-type {\n",
       "        vertical-align: middle;\n",
       "    }\n",
       "\n",
       "    .dataframe tbody tr th {\n",
       "        vertical-align: top;\n",
       "    }\n",
       "\n",
       "    .dataframe thead th {\n",
       "        text-align: right;\n",
       "    }\n",
       "</style>\n",
       "<table border=\"1\" class=\"dataframe\">\n",
       "  <thead>\n",
       "    <tr style=\"text-align: right;\">\n",
       "      <th></th>\n",
       "      <th>0</th>\n",
       "      <th>1</th>\n",
       "      <th>2</th>\n",
       "      <th>3</th>\n",
       "      <th>4</th>\n",
       "    </tr>\n",
       "  </thead>\n",
       "  <tbody>\n",
       "    <tr>\n",
       "      <td>zip</td>\n",
       "      <td>601</td>\n",
       "      <td>602</td>\n",
       "      <td>603</td>\n",
       "      <td>606</td>\n",
       "      <td>610</td>\n",
       "    </tr>\n",
       "    <tr>\n",
       "      <td>lat</td>\n",
       "      <td>18.18</td>\n",
       "      <td>18.3607</td>\n",
       "      <td>18.4544</td>\n",
       "      <td>18.1672</td>\n",
       "      <td>18.2903</td>\n",
       "    </tr>\n",
       "    <tr>\n",
       "      <td>lng</td>\n",
       "      <td>-66.7522</td>\n",
       "      <td>-67.1752</td>\n",
       "      <td>-67.122</td>\n",
       "      <td>-66.9383</td>\n",
       "      <td>-67.1224</td>\n",
       "    </tr>\n",
       "    <tr>\n",
       "      <td>city</td>\n",
       "      <td>Adjuntas</td>\n",
       "      <td>Aguada</td>\n",
       "      <td>Aguadilla</td>\n",
       "      <td>Maricao</td>\n",
       "      <td>Anasco</td>\n",
       "    </tr>\n",
       "    <tr>\n",
       "      <td>state_id</td>\n",
       "      <td>PR</td>\n",
       "      <td>PR</td>\n",
       "      <td>PR</td>\n",
       "      <td>PR</td>\n",
       "      <td>PR</td>\n",
       "    </tr>\n",
       "    <tr>\n",
       "      <td>state_name</td>\n",
       "      <td>Puerto Rico</td>\n",
       "      <td>Puerto Rico</td>\n",
       "      <td>Puerto Rico</td>\n",
       "      <td>Puerto Rico</td>\n",
       "      <td>Puerto Rico</td>\n",
       "    </tr>\n",
       "    <tr>\n",
       "      <td>zcta</td>\n",
       "      <td>True</td>\n",
       "      <td>True</td>\n",
       "      <td>True</td>\n",
       "      <td>True</td>\n",
       "      <td>True</td>\n",
       "    </tr>\n",
       "    <tr>\n",
       "      <td>parent_zcta</td>\n",
       "      <td>NaN</td>\n",
       "      <td>NaN</td>\n",
       "      <td>NaN</td>\n",
       "      <td>NaN</td>\n",
       "      <td>NaN</td>\n",
       "    </tr>\n",
       "    <tr>\n",
       "      <td>population</td>\n",
       "      <td>17242</td>\n",
       "      <td>38442</td>\n",
       "      <td>48814</td>\n",
       "      <td>6437</td>\n",
       "      <td>27073</td>\n",
       "    </tr>\n",
       "    <tr>\n",
       "      <td>density</td>\n",
       "      <td>111.4</td>\n",
       "      <td>523.5</td>\n",
       "      <td>667.9</td>\n",
       "      <td>60.4</td>\n",
       "      <td>312</td>\n",
       "    </tr>\n",
       "    <tr>\n",
       "      <td>county_fips</td>\n",
       "      <td>72001</td>\n",
       "      <td>72003</td>\n",
       "      <td>72005</td>\n",
       "      <td>72093</td>\n",
       "      <td>72011</td>\n",
       "    </tr>\n",
       "    <tr>\n",
       "      <td>county_name</td>\n",
       "      <td>Adjuntas</td>\n",
       "      <td>Aguada</td>\n",
       "      <td>Aguadilla</td>\n",
       "      <td>Maricao</td>\n",
       "      <td>Añasco</td>\n",
       "    </tr>\n",
       "    <tr>\n",
       "      <td>county_weights</td>\n",
       "      <td>{'72001':99.43,'72141':0.57}</td>\n",
       "      <td>{'72003':100}</td>\n",
       "      <td>{'72005':100}</td>\n",
       "      <td>{'72093':94.88,'72121':1.35,'72153':3.78}</td>\n",
       "      <td>{'72003':0.55,'72011':99.45}</td>\n",
       "    </tr>\n",
       "    <tr>\n",
       "      <td>county_names_all</td>\n",
       "      <td>Adjuntas|Utuado</td>\n",
       "      <td>Aguada</td>\n",
       "      <td>Aguadilla</td>\n",
       "      <td>Maricao|Yauco|Sabana Grande</td>\n",
       "      <td>Añasco|Aguada</td>\n",
       "    </tr>\n",
       "    <tr>\n",
       "      <td>county_fips_all</td>\n",
       "      <td>72001|72141</td>\n",
       "      <td>72003</td>\n",
       "      <td>72005</td>\n",
       "      <td>72093|72153|72121</td>\n",
       "      <td>72011|72003</td>\n",
       "    </tr>\n",
       "    <tr>\n",
       "      <td>imprecise</td>\n",
       "      <td>False</td>\n",
       "      <td>False</td>\n",
       "      <td>False</td>\n",
       "      <td>False</td>\n",
       "      <td>False</td>\n",
       "    </tr>\n",
       "    <tr>\n",
       "      <td>military</td>\n",
       "      <td>False</td>\n",
       "      <td>False</td>\n",
       "      <td>False</td>\n",
       "      <td>False</td>\n",
       "      <td>False</td>\n",
       "    </tr>\n",
       "    <tr>\n",
       "      <td>timezone</td>\n",
       "      <td>America/Puerto_Rico</td>\n",
       "      <td>America/Puerto_Rico</td>\n",
       "      <td>America/Puerto_Rico</td>\n",
       "      <td>America/Puerto_Rico</td>\n",
       "      <td>America/Puerto_Rico</td>\n",
       "    </tr>\n",
       "  </tbody>\n",
       "</table>\n",
       "</div>"
      ],
      "text/plain": [
       "                                             0                    1  \\\n",
       "zip                                        601                  602   \n",
       "lat                                      18.18              18.3607   \n",
       "lng                                   -66.7522             -67.1752   \n",
       "city                                  Adjuntas               Aguada   \n",
       "state_id                                    PR                   PR   \n",
       "state_name                         Puerto Rico          Puerto Rico   \n",
       "zcta                                      True                 True   \n",
       "parent_zcta                                NaN                  NaN   \n",
       "population                               17242                38442   \n",
       "density                                  111.4                523.5   \n",
       "county_fips                              72001                72003   \n",
       "county_name                           Adjuntas               Aguada   \n",
       "county_weights    {'72001':99.43,'72141':0.57}        {'72003':100}   \n",
       "county_names_all               Adjuntas|Utuado               Aguada   \n",
       "county_fips_all                    72001|72141                72003   \n",
       "imprecise                                False                False   \n",
       "military                                 False                False   \n",
       "timezone                   America/Puerto_Rico  America/Puerto_Rico   \n",
       "\n",
       "                                    2  \\\n",
       "zip                               603   \n",
       "lat                           18.4544   \n",
       "lng                           -67.122   \n",
       "city                        Aguadilla   \n",
       "state_id                           PR   \n",
       "state_name                Puerto Rico   \n",
       "zcta                             True   \n",
       "parent_zcta                       NaN   \n",
       "population                      48814   \n",
       "density                         667.9   \n",
       "county_fips                     72005   \n",
       "county_name                 Aguadilla   \n",
       "county_weights          {'72005':100}   \n",
       "county_names_all            Aguadilla   \n",
       "county_fips_all                 72005   \n",
       "imprecise                       False   \n",
       "military                        False   \n",
       "timezone          America/Puerto_Rico   \n",
       "\n",
       "                                                          3  \\\n",
       "zip                                                     606   \n",
       "lat                                                 18.1672   \n",
       "lng                                                -66.9383   \n",
       "city                                                Maricao   \n",
       "state_id                                                 PR   \n",
       "state_name                                      Puerto Rico   \n",
       "zcta                                                   True   \n",
       "parent_zcta                                             NaN   \n",
       "population                                             6437   \n",
       "density                                                60.4   \n",
       "county_fips                                           72093   \n",
       "county_name                                         Maricao   \n",
       "county_weights    {'72093':94.88,'72121':1.35,'72153':3.78}   \n",
       "county_names_all                Maricao|Yauco|Sabana Grande   \n",
       "county_fips_all                           72093|72153|72121   \n",
       "imprecise                                             False   \n",
       "military                                              False   \n",
       "timezone                                America/Puerto_Rico   \n",
       "\n",
       "                                             4  \n",
       "zip                                        610  \n",
       "lat                                    18.2903  \n",
       "lng                                   -67.1224  \n",
       "city                                    Anasco  \n",
       "state_id                                    PR  \n",
       "state_name                         Puerto Rico  \n",
       "zcta                                      True  \n",
       "parent_zcta                                NaN  \n",
       "population                               27073  \n",
       "density                                    312  \n",
       "county_fips                              72011  \n",
       "county_name                             Añasco  \n",
       "county_weights    {'72003':0.55,'72011':99.45}  \n",
       "county_names_all                 Añasco|Aguada  \n",
       "county_fips_all                    72011|72003  \n",
       "imprecise                                False  \n",
       "military                                 False  \n",
       "timezone                   America/Puerto_Rico  "
      ]
     },
     "execution_count": 104,
     "metadata": {},
     "output_type": "execute_result"
    }
   ],
   "source": [
    "zips_df = pd.read_csv('../data/uszips.csv')\n",
    "zips_df.head().T"
   ]
  },
  {
   "cell_type": "code",
   "execution_count": 112,
   "metadata": {},
   "outputs": [],
   "source": [
    "states = list(zips_df['state_id'].unique())"
   ]
  },
  {
   "cell_type": "code",
   "execution_count": 117,
   "metadata": {},
   "outputs": [],
   "source": [
    "# add clean state column, drop original column, rename new column\n",
    "df_clean = df_clean.withColumn('state_c', when(col('state').isin(states), col('state')).otherwise('unknown')) \\\n",
    "                    .drop('state').withColumnRenamed('state_c', 'state')"
   ]
  },
  {
   "cell_type": "markdown",
   "metadata": {},
   "source": [
    "## Now that my data is prepped, I'm ready to check out the data"
   ]
  },
  {
   "cell_type": "code",
   "execution_count": 124,
   "metadata": {},
   "outputs": [],
   "source": [
    "from matplotlib import pyplot as plt\n",
    "from matplotlib import rcParams\n",
    "rcParams.update({'figure.autolayout': True})"
   ]
  },
  {
   "cell_type": "markdown",
   "metadata": {},
   "source": [
    "### How does the number of complaints received relate to the day of the week?"
   ]
  },
  {
   "cell_type": "code",
   "execution_count": 123,
   "metadata": {},
   "outputs": [],
   "source": [
    "dow = df_clean.groupby(\"dow_submitted\").count().orderBy('dow_submitted').toPandas()"
   ]
  },
  {
   "cell_type": "code",
   "execution_count": 125,
   "metadata": {},
   "outputs": [
    {
     "data": {
      "text/plain": [
       "<matplotlib.axes._subplots.AxesSubplot at 0x1192c8b10>"
      ]
     },
     "execution_count": 125,
     "metadata": {},
     "output_type": "execute_result"
    },
    {
     "data": {
      "image/png": "[encoded data removed]",
      "text/plain": [
       "<Figure size 432x288 with 1 Axes>"
      ]
     },
     "metadata": {
      "needs_background": "light"
     },
     "output_type": "display_data"
    }
   ],
   "source": [
    "fig, ax = plt.subplots(figsize=(13, 8))\n",
    "ax.line(x=dow['dow_submitted'], y=dow['count'])\n",
    "ax.set_title(\"Complaints by Day of the Week\")\n",
    "ax.set_xlabel(\"Day of the Week\")\n",
    "ax.set_ylabel('Number of Complaints')\n",
    "\n",
    "plt.savefig('images/company_counts.png')"
   ]
  },
  {
   "cell_type": "markdown",
   "metadata": {},
   "source": [
    "### How has the number of complaints changed over time (by year)?"
   ]
  },
  {
   "cell_type": "code",
   "execution_count": null,
   "metadata": {},
   "outputs": [],
   "source": []
  },
  {
   "cell_type": "markdown",
   "metadata": {},
   "source": [
    "### How has the number of complaints changed over time (by month)?"
   ]
  },
  {
   "cell_type": "code",
   "execution_count": null,
   "metadata": {},
   "outputs": [],
   "source": []
  },
  {
   "cell_type": "markdown",
   "metadata": {},
   "source": [
    "### Count of Complaints in Each State --> Map relative # of complaints as compared to state population"
   ]
  },
  {
   "cell_type": "code",
   "execution_count": null,
   "metadata": {},
   "outputs": [],
   "source": []
  },
  {
   "cell_type": "markdown",
   "metadata": {},
   "source": [
    "### Wordle of the tags"
   ]
  },
  {
   "cell_type": "code",
   "execution_count": null,
   "metadata": {},
   "outputs": [],
   "source": []
  },
  {
   "cell_type": "markdown",
   "metadata": {},
   "source": [
    "### Top 20 Products"
   ]
  },
  {
   "cell_type": "code",
   "execution_count": null,
   "metadata": {},
   "outputs": [],
   "source": []
  }
 ],
 "metadata": {
  "kernelspec": {
   "display_name": "Python (pyspark-env)\n",
   "language": "python",
   "name": "pyspark-env"
  },
  "language_info": {
   "codemirror_mode": {
    "name": "ipython",
    "version": 3
   },
   "file_extension": ".py",
   "mimetype": "text/x-python",
   "name": "python",
   "nbconvert_exporter": "python",
   "pygments_lexer": "ipython3",
   "version": "3.7.4"
  }
 },
 "nbformat": 4,
 "nbformat_minor": 2
}
